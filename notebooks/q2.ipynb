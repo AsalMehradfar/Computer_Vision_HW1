{
  "nbformat": 4,
  "nbformat_minor": 0,
  "metadata": {
    "colab": {
      "name": "q2.ipynb",
      "provenance": [],
      "collapsed_sections": []
    },
    "kernelspec": {
      "name": "python3",
      "display_name": "Python 3"
    },
    "language_info": {
      "name": "python"
    }
  },
  "cells": [
    {
      "cell_type": "markdown",
      "metadata": {
        "id": "7NimcrB4roQZ"
      },
      "source": [
        "# <font color=red>HW01-q2 Vision Course, Perspective</font>\n",
        "This is the notebook for **q2.py** that is the implementation of **Perspective**. <br>\n",
        "The code is written by **Asal Mehradfar** with student number **96105434**."
      ]
    },
    {
      "cell_type": "markdown",
      "metadata": {
        "id": "lPt1eVQyssHG"
      },
      "source": [
        "## <font color=orange>Description</font>\n",
        "I used the course slides for implementing this part. the brief explanation:\n",
        "\n",
        "\n",
        "*   In this question, I work with colorful images. So at the first step I convert the image to the RGB one. <br><br>\n",
        "*   Then I need to compute the four important parameters in the formula of **Homography**, $K'$, $K^{-1}$, $R$ and $t$. The number of camera pixels and the distance and height of the camera are given. $P_x$ and $P_y$ are chosen as the center of the field according to class points. Also s is defined to be zero. Now we can easily compute $H$ and $H^{-1}$. <br>\n",
        "$$K' = K =\\begin{bmatrix} f & 0 & P_x \\\\ 0 & f & P_y \\\\ 0 & 0 & 1 \\end{bmatrix} = \\begin{bmatrix} 500 & 0 & 128 \\\\ 0 & 500 & 128 \\\\ 0 & 0 & 1 \\end{bmatrix}$$\n",
        "$$K^{-1} =\\begin{bmatrix} 0.002 & 0 & -0.256 \\\\ 0 & 0.002 & -0.256 \\\\ 0 & 0 & 1 \\end{bmatrix}$$\n",
        "$$\\Phi = -\\arctan(\\frac{d}{h})$$\n",
        "$$R =\\begin{bmatrix} \\cos(\\Phi) & 0 & -\\sin(\\Phi) \\\\ 0 & 1 & 0 \\\\ \\sin(\\Phi) & 0 & \\cos(\\Phi) \\end{bmatrix} = \\begin{bmatrix} 0.53 & 0 & 0.85 \\\\ 0 & 1 & 0 \\\\ -0.85 & 0 & 0.53 \\end{bmatrix}$$\n",
        "$$t =R \\times C = R \\times \\begin{bmatrix} d \\\\ 0 \\\\ 0 \\end{bmatrix} = \\begin{bmatrix} -21.2 \\\\ 0 \\\\ 33.92 \\end{bmatrix}$$\n",
        "*   $$H = K'(R - \\frac{tn^{t}}{d})K^{-1}$$\n",
        "$$n = \\begin{bmatrix} 0 \\\\ 0 \\\\ -1 \\end{bmatrix}$$\n",
        "$$H =\\begin{bmatrix} 0.313 & 0 & 201.457 \\\\ -0.217 & 1 & 141.297 \\\\ -0.002 & 0 & 2.104 \\end{bmatrix}$$\n",
        "$$H^{-1} =\\begin{bmatrix} 2.104 & 0 & -201.457 \\\\ 0.217 & 1 & -87.947 \\\\ 0.002 & 0 & 0.313 \\end{bmatrix}$$\n",
        "<br>\n",
        "*   At the last step, I find the size of the output image by finding the maximum and minimum of the output coordinates using $H^{-1}$. Then I make a zero matrix of that size and convert all the coordinates of the output image to the coordinates of the input logo and use the first image's values for them.\n",
        "\n",
        "\n",
        "\n",
        "\n",
        "\n",
        "\n",
        "\n",
        "\n"
      ]
    },
    {
      "cell_type": "markdown",
      "metadata": {
        "id": "f0iUfIGhs0yr"
      },
      "source": [
        "### <font color=yellow>Imports</font>"
      ]
    },
    {
      "cell_type": "code",
      "metadata": {
        "id": "6Wp0A8hXjhLw"
      },
      "source": [
        "import cv2\n",
        "import matplotlib.pyplot as plt\n",
        "import numpy as np\n",
        "import math\n",
        "from PIL import Image"
      ],
      "execution_count": 1,
      "outputs": []
    },
    {
      "cell_type": "markdown",
      "metadata": {
        "id": "yv0Ztg31tHU1"
      },
      "source": [
        "### <font color=yellow>Parameters</font>\n",
        "\n",
        "\n",
        "*   D = 40 \n",
        "*   H = 25\n",
        "*   N = 500\n"
      ]
    },
    {
      "cell_type": "code",
      "metadata": {
        "id": "ZKYCMJLkGedr"
      },
      "source": [
        "D = 40\n",
        "H = 25\n",
        "N = 500\n",
        "n = np.array([[0, 0, -1]]) # computed and tested"
      ],
      "execution_count": 2,
      "outputs": []
    },
    {
      "cell_type": "markdown",
      "metadata": {
        "id": "3Of5V7r4tbB7"
      },
      "source": [
        "### <font color=yellow>Functions</font>"
      ]
    },
    {
      "cell_type": "code",
      "metadata": {
        "id": "2hsslf7pj0MX"
      },
      "source": [
        "def get_img(path):\n",
        "    \"\"\"\n",
        "    Read the image file from the path and change it from BGR to RGB\n",
        "    pay attention that in open-cv colorful images are BGR **NOT** RGB\n",
        "    \n",
        "    Inputs:\n",
        "    --> path: path for the image\n",
        "    Outputs:\n",
        "    ==> img: the RGB image\n",
        "    \"\"\"\n",
        "    img = cv2.imread(path)\n",
        "    img = cv2.cvtColor(img,cv2.COLOR_BGR2RGB)\n",
        "    return img\n",
        "\n",
        "def plot_img(img, path=None):\n",
        "    \"\"\"\n",
        "    Plot a colorful image and save it if needed\n",
        "    \n",
        "    Inputs:\n",
        "    --> img: the desired image\n",
        "    --> path: the default value is None, if it is given the image will be saved in the path\n",
        "    Outputs:\n",
        "    ==> Nothing, the image will be plotted\n",
        "    \"\"\"\n",
        "    fig = plt.figure(figsize=(16, 8))\n",
        "    plt.imshow(img)\n",
        "    plt.axis('off')\n",
        "    if path != None:\n",
        "        fig.savefig(path, bbox_inches='tight')\n",
        "    plt.show()\n",
        "\n",
        "def get_params(f, Px, Py, d, h, s=0):\n",
        "    \"\"\"\n",
        "    compute the parameters needed for making K, K^(-1), R, t\n",
        "    \n",
        "    Inputs:\n",
        "    --> f: number of camera pixels\n",
        "    --> Px: x center of image\n",
        "    --> Py: y center of image\n",
        "    --> d: distance between camera and center of the football field\n",
        "    --> h: height of the camera from the earth\n",
        "    --> s: is usually zero or near zero for creating K\n",
        "    Outputs:\n",
        "    ==> K: here is equal to K' in the formula\n",
        "    ==> K_inv: K^(-1)\n",
        "    ==> R\n",
        "    ==> t\n",
        "    \"\"\"\n",
        "    K = np.array([[f, s, Px], [0, f, Py], [0, 0, 1]])\n",
        "    K_inv = np.linalg.inv(K)\n",
        "    angle = -np.arctan(d / h)\n",
        "    R = np.array([[np.cos(angle), 0, -np.sin(angle)], [0, 1, 0], [np.sin(angle), 0, np.cos(angle)]])\n",
        "    C = np.array([[d, 0, 0]]).transpose()\n",
        "    t = -np.dot(R, C)\n",
        "    return K, K_inv, R, t\n",
        "\n",
        "def get_H(K, K_inv, R, t, n, d):\n",
        "    \"\"\"\n",
        "    compute H and H_inv\n",
        "    \n",
        "    Inputs:\n",
        "    --> K: 3*3 array, here is equal to K' in the formula\n",
        "    --> K_inv: K^(-1)\n",
        "    --> R: 3*3 array \n",
        "    --> t: 3*1 vector\n",
        "    --> n: a vector which is vertical to the plane, being negative was understood by experiment\n",
        "    --> d: distance between camera and center of the football field\n",
        "    Outputs:\n",
        "    ==> H: the homography 3*3 array computed by the formula in page 15 of slide 8\n",
        "    ==> H_inv: H^(-1)\n",
        "    \"\"\"\n",
        "    H = np.dot(np.dot(K, R - np.dot(t, n) / d), K_inv)\n",
        "    H_inv = np.linalg.inv(H)\n",
        "    return H, H_inv\n",
        "\n",
        "def make_new_img(H, H_inv, img):\n",
        "    \"\"\"\n",
        "    here at first we try to find the size of the output image \n",
        "    by computing the effect of H inverse on the points in the input image \n",
        "    and finding their maximum and minimum. \n",
        "    then by making a completely zero 3d array of the new size we use H \n",
        "    for computing new coordinates in the original image and used the values of the original image \n",
        "    for setting the values of new image.\n",
        "    \n",
        "    Inputs:\n",
        "    --> H: the homography 3*3 array computed by the formula in page 15 of slide 8\n",
        "    --> H_inv: H^(-1)\n",
        "    --> img: the original image, here the original logo\n",
        "    Outputs:\n",
        "    ==> new_img: the output image after homography\n",
        "    \"\"\"\n",
        "    min_x = math.inf\n",
        "    min_y = math.inf\n",
        "    max_x = 0\n",
        "    max_y = 0\n",
        "    for x in range(img.shape[0]):\n",
        "        for y in range(img.shape[1]):\n",
        "            a = np.array([[x, y, 1]]).transpose()\n",
        "            b = np.dot(H_inv, a)\n",
        "            [x_new, y_new] = [int(b[0]/b[2]), int(b[1]/b[2])]\n",
        "            min_x = min(x_new, min_x)\n",
        "            min_y = min(y_new, min_y)\n",
        "            max_x = max(x_new, max_x)\n",
        "            max_y = max(y_new, max_y)\n",
        "\n",
        "    new_img = np.zeros((max_x - min_x + 1, max_y - min_y + 1, 3))\n",
        "    for x in range(new_img.shape[0]):\n",
        "        for y in range(new_img.shape[1]):\n",
        "            a = np.array([[x + min_x, y + min_y, 1]]).transpose()\n",
        "            b = np.dot(H, a)\n",
        "            [x_new, y_new] = [int(b[0]/b[2]), int(b[1]/b[2])]\n",
        "            if 0 < x_new < img.shape[0] and 0 < y_new < img.shape[1]:\n",
        "                new_img[x, y, :] = img[x_new, y_new, :]\n",
        "    new_img = new_img.astype(np.uint8)\n",
        "    return new_img\n",
        "\n",
        "def save_img(array, path, scaled=False):\n",
        "    \"\"\"\n",
        "    save the input image in the desired path\n",
        "\n",
        "    Inputs:\n",
        "    --> array: the array of an image\n",
        "    --> path: the desired path for saving the image\n",
        "    --> scaled: the default value is False,\n",
        "    if it is given True the image will be scaled into [0,255]\n",
        "    Outputs:\n",
        "    ==> Nothing, just saving the image\n",
        "    \"\"\"\n",
        "    if scaled:\n",
        "        array = scaling_img(array).astype(np.uint8)\n",
        "    img = Image.fromarray(array)\n",
        "    img.save(path)\n",
        "\n",
        "def scaling_img(img):\n",
        "    \"\"\"\n",
        "    return the scaled image usually for saving \n",
        "    \n",
        "    Inputs:\n",
        "    --> img: the desired image for scaling\n",
        "    Outputs:\n",
        "    ==> scaled_img: we assume that the minimum of the image is zero\n",
        "        so we scale it by devision by its maximum and multiplying it by 255.0\n",
        "    \"\"\"\n",
        "    scaled_img = 255.0 * img / np.max(img)\n",
        "    return scaled_img\n"
      ],
      "execution_count": 3,
      "outputs": []
    },
    {
      "cell_type": "markdown",
      "metadata": {
        "id": "d1F0nKtDX9ea"
      },
      "source": [
        "### <font color=yellow>Main Part, Test on logo.png</font>"
      ]
    },
    {
      "cell_type": "code",
      "metadata": {
        "id": "RQXeFYcErmF0"
      },
      "source": [
        "img = get_img('logo.png')\n",
        "K, K_inv, R, t = get_params(N, img.shape[0]/2, img.shape[0]/2, D, H)\n",
        "H , H_inv = get_H(K, K_inv, R, t, n, H)\n",
        "new_img = make_new_img(H, H_inv, img)\n",
        "save_img(new_img, 'res12.jpg')"
      ],
      "execution_count": 4,
      "outputs": []
    }
  ]
}